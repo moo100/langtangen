{
 "cells": [
  {
   "cell_type": "markdown",
   "metadata": {},
   "source": [
    "# Exercise 3.1: Implement a simple mathematical function"
   ]
  },
  {
   "cell_type": "code",
   "execution_count": 1,
   "metadata": {
    "collapsed": true
   },
   "outputs": [],
   "source": [
    "from math import exp, sin, pi\n",
    "\n",
    "def g(t):\n",
    "    return exp(-t) * sin(pi * t)"
   ]
  },
  {
   "cell_type": "code",
   "execution_count": 2,
   "metadata": {},
   "outputs": [
    {
     "name": "stdout",
     "output_type": "stream",
     "text": [
      "0.0 4.505223801027239e-17\n"
     ]
    }
   ],
   "source": [
    "print(g(0), g(1))"
   ]
  },
  {
   "cell_type": "markdown",
   "metadata": {},
   "source": [
    "# Exercise 3.2: Implement a simple mathematical function with a parameter"
   ]
  },
  {
   "cell_type": "code",
   "execution_count": 3,
   "metadata": {
    "collapsed": true
   },
   "outputs": [],
   "source": [
    "def h(t, a=1):\n",
    "    return exp(-a * t) * sin(pi * t)"
   ]
  },
  {
   "cell_type": "code",
   "execution_count": 4,
   "metadata": {},
   "outputs": [
    {
     "name": "stdout",
     "output_type": "stream",
     "text": [
      "0.0 5.559887866514173e-21\n"
     ]
    }
   ],
   "source": [
    "print(h(0, 10), h(1, 10))"
   ]
  },
  {
   "cell_type": "markdown",
   "metadata": {},
   "source": [
    "# Exercise 3.3: Explain how a program works"
   ]
  },
  {
   "cell_type": "code",
   "execution_count": 5,
   "metadata": {},
   "outputs": [
    {
     "name": "stdout",
     "output_type": "stream",
     "text": [
      "5\n",
      "27\n"
     ]
    }
   ],
   "source": [
    "def add(A, B):\n",
    "    C = A + B\n",
    "    return C\n",
    "\n",
    "a = 3\n",
    "b = 2\n",
    "print(add(a, b))          # 5\n",
    "print(add(2*a, b+1)*3)    # 27"
   ]
  },
  {
   "cell_type": "markdown",
   "metadata": {},
   "source": [
    "# Exercise 3.4: Write a Fahrenheit-Celsius conversion function"
   ]
  },
  {
   "cell_type": "code",
   "execution_count": 6,
   "metadata": {},
   "outputs": [
    {
     "name": "stdout",
     "output_type": "stream",
     "text": [
      "5 5.0 5.0\n"
     ]
    }
   ],
   "source": [
    "def C(F):\n",
    "    return 5 / 9 * (F - 32)\n",
    "\n",
    "def F(C):\n",
    "    return 9/5*C + 32\n",
    "\n",
    "a = 5\n",
    "print(a, C(F(a)), F(C(a)))"
   ]
  },
  {
   "cell_type": "markdown",
   "metadata": {},
   "source": [
    "# Exercise 3.5: Write a test function for Exercise 3.4"
   ]
  },
  {
   "cell_type": "code",
   "execution_count": 7,
   "metadata": {
    "collapsed": true
   },
   "outputs": [],
   "source": [
    "def test_F_C():\n",
    "    eps = 1e-14\n",
    "    a = 12.34\n",
    "    assert abs(C(F(a)) - a) < eps, f\"a = {a}, C(F(a)) = {C(F(a))}\"\n",
    "    assert abs(F(C(a)) - a) < eps, f\"a = {a}, F(C(a)) = {F(C(a))}\"\n",
    "\n",
    "test_F_C()"
   ]
  },
  {
   "cell_type": "markdown",
   "metadata": {},
   "source": [
    "# Exercise 3.6: Given a test function, write the function"
   ]
  },
  {
   "cell_type": "code",
   "execution_count": 8,
   "metadata": {
    "collapsed": true
   },
   "outputs": [],
   "source": [
    "def test_double():\n",
    "    assert double(2) == 4\n",
    "    assert abs(double(0.1) - 0.2) < 1E-15\n",
    "    assert double([1, 2]) == [1, 2, 1, 2]\n",
    "    assert double((1, 2)) == (1, 2, 1, 2)\n",
    "    assert double(3+4j) == 6+8j\n",
    "    assert double('hello') == 'hellohello'\n",
    "    \n",
    "def double(x):\n",
    "    return 2*x\n",
    "\n",
    "test_double()"
   ]
  },
  {
   "cell_type": "markdown",
   "metadata": {},
   "source": [
    "# Exercise 3.7: Evaluate a sum and write a test function"
   ]
  },
  {
   "cell_type": "code",
   "execution_count": 9,
   "metadata": {
    "collapsed": true
   },
   "outputs": [],
   "source": [
    "def sum_1k(M):\n",
    "    return sum(1 / k for k in range(1, M+1))"
   ]
  },
  {
   "cell_type": "code",
   "execution_count": 10,
   "metadata": {
    "collapsed": true
   },
   "outputs": [],
   "source": [
    "def test_sum_1k():\n",
    "    M = 3\n",
    "    exact = 1 + 1/2 + 1/3\n",
    "    result = sum_1k(M)\n",
    "    error = abs(result - exact)\n",
    "    success = error < 1e-15\n",
    "    assert success, f\"sum_1k({M}): result={result}, exact={exact}, error={error}\"\n",
    "    \n",
    "test_sum_1k()"
   ]
  },
  {
   "cell_type": "markdown",
   "metadata": {},
   "source": [
    "# Exercise 3.8: Write a function for solving $a x^2 + bx + c = 0$"
   ]
  },
  {
   "cell_type": "code",
   "execution_count": 11,
   "metadata": {
    "collapsed": true
   },
   "outputs": [],
   "source": [
    "from numpy.lib.scimath import sqrt\n",
    "\n",
    "def roots(a, b, c):\n",
    "    r1 = sqrt((b**2 / 4 / a**2) - c/a) - b/2/a\n",
    "    r2 = -sqrt((b**2 / 4 / a**2) - c/a) - b/2/a\n",
    "    return r1, r2"
   ]
  },
  {
   "cell_type": "code",
   "execution_count": 12,
   "metadata": {
    "collapsed": true
   },
   "outputs": [],
   "source": [
    "def test_roots_float():\n",
    "    a, b, c = 2, 4, -2\n",
    "    r = sorted(roots(a, b, c))\n",
    "    exact = -2.4142, 0.41421\n",
    "    error = (abs(r[0] - exact[0]) + abs(r[1] - exact[1])) / 2\n",
    "    success = error < 1e-5\n",
    "    assert success, f\"Computed roots: {r}, actual roots: {exact}. Error: {error}\"\n",
    "    \n",
    "def test_roots_complex():\n",
    "    a, b, c = 2, 4, 3\n",
    "    r = sorted(roots(a, b, c), key=lambda x: x.imag)\n",
    "    exact =  -1.00000 - 0.70711j, -1.00000 + 0.70711j\n",
    "    error = (abs(r[0] - exact[0]) + abs(r[1] - exact[1])) / 2\n",
    "    success = error < 1e-5\n",
    "    assert success, f\"Computed roots: {r}, actual roots: {exact}. Error: {error}\""
   ]
  },
  {
   "cell_type": "code",
   "execution_count": 13,
   "metadata": {
    "collapsed": true
   },
   "outputs": [],
   "source": [
    "test_roots_float()\n",
    "test_roots_complex()"
   ]
  },
  {
   "cell_type": "markdown",
   "metadata": {},
   "source": [
    "# Exercise 3.9: Implement the sum function"
   ]
  },
  {
   "cell_type": "code",
   "execution_count": 14,
   "metadata": {
    "collapsed": true
   },
   "outputs": [],
   "source": [
    "def mysum(x):\n",
    "    s = type(x[0])()\n",
    "    for y in x:\n",
    "        s += y\n",
    "    return s"
   ]
  },
  {
   "cell_type": "code",
   "execution_count": 15,
   "metadata": {},
   "outputs": [
    {
     "name": "stdout",
     "output_type": "stream",
     "text": [
      "6\n",
      "Hello, World!\n"
     ]
    }
   ],
   "source": [
    "print(mysum([1, 2, 3]))\n",
    "print(mysum([\"Hello, \", \"World!\"]))"
   ]
  },
  {
   "cell_type": "markdown",
   "metadata": {},
   "source": [
    "# Exercise 3.10: Compute a polynomial via a product"
   ]
  },
  {
   "cell_type": "code",
   "execution_count": 16,
   "metadata": {
    "collapsed": true
   },
   "outputs": [],
   "source": [
    "from numpy import prod\n",
    "\n",
    "def poly(x, roots):\n",
    "    \"\"\"\n",
    "    Computes the value of a polynomial P(x) given the roots. #\n",
    "    Does not work if there is a coefficient on the d-th term, d being the degree of the polynomial.\n",
    "    \"\"\"\n",
    "    return prod([x - r for r in roots])\n",
    "\n",
    "def test_poly():\n",
    "    x = 5\n",
    "    roots = -4.4495, 0.44949\n",
    "    approx = poly(x, roots)\n",
    "    exact = 43\n",
    "    error = abs(approx - exact)\n",
    "    success = error < 1e-4\n",
    "    assert success, f\"Computed value: {approx}, actual value: {exact}. Error: {error}\""
   ]
  },
  {
   "cell_type": "code",
   "execution_count": 17,
   "metadata": {
    "collapsed": true
   },
   "outputs": [],
   "source": [
    "test_poly()"
   ]
  },
  {
   "cell_type": "markdown",
   "metadata": {},
   "source": [
    "# Exercise 3.11: Integrate a function by the Trapezoidal rule"
   ]
  },
  {
   "cell_type": "code",
   "execution_count": 18,
   "metadata": {
    "collapsed": true
   },
   "outputs": [],
   "source": [
    "def trapezint1(f, a, b):\n",
    "    return (b - a) / 2 * (f(a) + f(b))"
   ]
  },
  {
   "cell_type": "code",
   "execution_count": 19,
   "metadata": {
    "collapsed": true
   },
   "outputs": [],
   "source": [
    "def trapezint2(f, a, b):\n",
    "    return (b - a) / 4 * (f(a) + 2*f(a + (b - a)/2) + f(b))"
   ]
  },
  {
   "cell_type": "code",
   "execution_count": 20,
   "metadata": {
    "collapsed": true
   },
   "outputs": [],
   "source": [
    "def trapezint(f, a, b, n):\n",
    "    h = (b - a) / n\n",
    "    x = lambda i: a + i*h\n",
    "    return sum(h / 2 * (f(x(i)) + f(x(i+1))) for i in range(0, n))    # 0 -> n-1, im buch steht 1 -> n-1"
   ]
  },
  {
   "cell_type": "code",
   "execution_count": 21,
   "metadata": {},
   "outputs": [
    {
     "name": "stdout",
     "output_type": "stream",
     "text": [
      "cosx i[0, pi]: approx=-4.0939474033052647e-16, exact=0, error=4.0939474033052647e-16\n",
      "sinx i[0, pi]: approx=1.9998355038874438, exact=2, error=0.00016449611255620056\n",
      "sinx i[0, pi/2]: approx=0.9999794382396072, exact=1, error=2.0561760392778794e-05\n"
     ]
    }
   ],
   "source": [
    "from math import cos, pi, sin\n",
    "\n",
    "# trapezint = trapezint2\n",
    "\n",
    "approx = trapezint(cos, 0, pi, 100)\n",
    "exact = 0\n",
    "error = abs(approx - exact)\n",
    "print(f\"cosx i[0, pi]: approx={approx}, exact={exact}, error={error}\")\n",
    "\n",
    "approx = trapezint(sin, 0, pi, 100)\n",
    "exact = 2\n",
    "error = abs(approx - exact)\n",
    "print(f\"sinx i[0, pi]: approx={approx}, exact={exact}, error={error}\")\n",
    "\n",
    "approx = trapezint(sin, 0, pi / 2, 100)\n",
    "exact = 1\n",
    "error = abs(approx - exact)\n",
    "print(f\"sinx i[0, pi/2]: approx={approx}, exact={exact}, error={error}\")"
   ]
  },
  {
   "cell_type": "code",
   "execution_count": 22,
   "metadata": {
    "collapsed": true
   },
   "outputs": [],
   "source": [
    "def test_trapezint():\n",
    "    approx = trapezint(cos, 0, 2*pi, 10)\n",
    "    exact = 0\n",
    "    error = abs(approx - exact)\n",
    "    success = error < 1e-10\n",
    "    assert success, f\"cosx i[0, 2*pi]: approx={approx}, exact={exact}, error={error}\""
   ]
  },
  {
   "cell_type": "code",
   "execution_count": 23,
   "metadata": {
    "collapsed": true
   },
   "outputs": [],
   "source": [
    "test_trapezint()"
   ]
  },
  {
   "cell_type": "markdown",
   "metadata": {},
   "source": [
    "# Exercise 3.12: Derive the general Midpoint integration rule"
   ]
  },
  {
   "cell_type": "code",
   "execution_count": 24,
   "metadata": {
    "collapsed": true
   },
   "outputs": [],
   "source": [
    "def midpointint(f, a, b, n):\n",
    "    h = (b - a) / n\n",
    "    return h * sum(f(a + i*h + h/2) for i in range(0, n))"
   ]
  },
  {
   "cell_type": "code",
   "execution_count": 25,
   "metadata": {},
   "outputs": [
    {
     "name": "stdout",
     "output_type": "stream",
     "text": [
      "cosx i[0, pi]: approx=-1.9880850438649202e-16, exact=0, error=1.9880850438649202e-16\n",
      "sinx i[0, pi]: approx=2.0000822490709864, exact=2, error=8.224907098641765e-05\n",
      "sinx i[0, pi/2]: approx=1.0000102809119051, exact=1, error=1.0280911905136136e-05\n"
     ]
    }
   ],
   "source": [
    "from math import cos, pi, sin\n",
    "\n",
    "approx = midpointint(cos, 0, pi, 100)\n",
    "exact = 0\n",
    "error = abs(approx - exact)\n",
    "print(f\"cosx i[0, pi]: approx={approx}, exact={exact}, error={error}\")\n",
    "\n",
    "approx = midpointint(sin, 0, pi, 100)\n",
    "exact = 2\n",
    "error = abs(approx - exact)\n",
    "print(f\"sinx i[0, pi]: approx={approx}, exact={exact}, error={error}\")\n",
    "\n",
    "approx = midpointint(sin, 0, pi / 2, 100)\n",
    "exact = 1\n",
    "error = abs(approx - exact)\n",
    "print(f\"sinx i[0, pi/2]: approx={approx}, exact={exact}, error={error}\")\n",
    "\n",
    "# better for large n, worse for small n (in comparison to trapezoidal rule)"
   ]
  },
  {
   "cell_type": "markdown",
   "metadata": {},
   "source": [
    "# Exercise 3.13: Make an adaptive Trapezoidal rule"
   ]
  },
  {
   "cell_type": "code",
   "execution_count": 26,
   "metadata": {
    "collapsed": true
   },
   "outputs": [],
   "source": [
    "# I mean it works I guess, but I just guessed an `h_` and I don't think this is the correct solution.\n",
    "def adaptive_trapezint(f, a, b, eps=1e-1):\n",
    "    h_ = 1e-6\n",
    "    d2f = lambda x: (f(x + h_) - 2*f(x) + f(x - h_)) / h_**2\n",
    "    d2f_max = 0\n",
    "    for x in range(int((b - a) // h_)):\n",
    "        d2f_ = abs(d2f(x))\n",
    "        if d2f_ > d2f_max:\n",
    "            d2f_max = d2f_\n",
    "    n = int((b - a) / sqrt(12 * eps) * sqrt((b - a) * d2f_max))\n",
    "    return trapezint(f, a, b, n)"
   ]
  },
  {
   "cell_type": "code",
   "execution_count": 27,
   "metadata": {},
   "outputs": [
    {
     "name": "stdout",
     "output_type": "stream",
     "text": [
      "cosx i[0, pi]: approx=1.5959455978986625e-16, exact=0, error=1.5959455978986625e-16\n",
      "sinx i[0, pi]: approx=1.9996442490081243, exact=2, error=0.0003557509918756807\n",
      "sinx i[0, pi/2]: approx=0.9770486166568532, exact=1, error=0.022951383343146836\n"
     ]
    }
   ],
   "source": [
    "from math import cos, pi, sin\n",
    "\n",
    "approx = adaptive_trapezint(cos, 0, pi)\n",
    "exact = 0\n",
    "error = abs(approx - exact)\n",
    "print(f\"cosx i[0, pi]: approx={approx}, exact={exact}, error={error}\")\n",
    "\n",
    "approx = adaptive_trapezint(sin, 0, pi)\n",
    "exact = 2\n",
    "error = abs(approx - exact)\n",
    "print(f\"sinx i[0, pi]: approx={approx}, exact={exact}, error={error}\")\n",
    "\n",
    "approx = adaptive_trapezint(sin, 0, pi / 2)\n",
    "exact = 1\n",
    "error = abs(approx - exact)\n",
    "print(f\"sinx i[0, pi/2]: approx={approx}, exact={exact}, error={error}\")"
   ]
  },
  {
   "cell_type": "markdown",
   "metadata": {},
   "source": [
    "# Exercise 3.14: Simulate a program by hand"
   ]
  },
  {
   "cell_type": "code",
   "execution_count": 28,
   "metadata": {},
   "outputs": [
    {
     "name": "stdout",
     "output_type": "stream",
     "text": [
      "11 6 11 9\n"
     ]
    }
   ],
   "source": [
    "def a(x):\n",
    "    q = 2\n",
    "    x = 3*x\n",
    "    return q + x\n",
    "\n",
    "def b(x):\n",
    "    global q\n",
    "    q += x\n",
    "    return q + x\n",
    "\n",
    "q = 0\n",
    "x = 3\n",
    "print(a(x), b(x), a(x), b(x))\n",
    "\n",
    "# i did it yay"
   ]
  },
  {
   "cell_type": "markdown",
   "metadata": {},
   "source": [
    "# Exercise 3.15: Debug a given test function"
   ]
  },
  {
   "cell_type": "code",
   "execution_count": 29,
   "metadata": {
    "collapsed": true
   },
   "outputs": [],
   "source": [
    "def triple(x):\n",
    "    return x + x*2"
   ]
  },
  {
   "cell_type": "code",
   "execution_count": 30,
   "metadata": {
    "collapsed": true
   },
   "outputs": [],
   "source": [
    "def test_triple():\n",
    "    assert triple(3) == 9\n",
    "    assert abs(triple(0.1) - 0.3) < 1e-10\n",
    "    assert triple([1, 2]) == [1, 2, 1, 2, 1, 2]\n",
    "    assert triple(\"hello \") == \"hello hello hello \"\n",
    "    \n",
    "test_triple()"
   ]
  },
  {
   "cell_type": "markdown",
   "metadata": {},
   "source": [
    "# Exercise 3.16: Compute the area of an arbitrary triangle"
   ]
  },
  {
   "cell_type": "code",
   "execution_count": 31,
   "metadata": {
    "collapsed": true
   },
   "outputs": [],
   "source": [
    "def triangle_area(v):\n",
    "    return 1/2 * abs(v[1][0]*v[2][1] - v[2][0]*v[1][1] - v[0][0]*v[2][1] + v[2][0]*v[0][1] + v[0][0]*v[1][1] - v[1][0]*v[0][1])"
   ]
  },
  {
   "cell_type": "code",
   "execution_count": 32,
   "metadata": {
    "collapsed": true
   },
   "outputs": [],
   "source": [
    "def test_triangle_area():\n",
    "    \"\"\"\n",
    "    Verify the area of a triangle with vertex coordinates\n",
    "    (0,0), (1,0), and (0,2).\n",
    "    \"\"\"\n",
    "    v1 = (0,0); v2 = (1,0); v3 = (0,2)\n",
    "    vertices = [v1, v2, v3]\n",
    "    expected = 1\n",
    "    computed = triangle_area(vertices)\n",
    "    tol = 1e-14\n",
    "    success = abs(expected - computed) < tol    # what does `diff` mean?\n",
    "    msg = \"computed area=%g != %g (expected)\" % (computed, expected)\n",
    "    assert success, msg\n",
    "    \n",
    "test_triangle_area()"
   ]
  },
  {
   "cell_type": "markdown",
   "metadata": {},
   "source": [
    "# Exercise 3.17: Compute the length of a path"
   ]
  },
  {
   "cell_type": "code",
   "execution_count": 33,
   "metadata": {
    "collapsed": true
   },
   "outputs": [],
   "source": [
    "from math import sqrt\n",
    "\n",
    "def pathlength(x, y):\n",
    "    return sum(sqrt((x[i] - x[i - 1])**2 + (y[i] - y[i - 1])**2) for i in range(1, len(x)))\n",
    "\n",
    "def test_pathlength():\n",
    "    x, y = (1, 2, 3, 4), (2, 3, 4, 5)\n",
    "    approx = pathlength(x, y)\n",
    "    exact = 3 * sqrt(2)\n",
    "    error = abs(exact - approx)\n",
    "    eps = 1e-12\n",
    "    success = error < eps\n",
    "    assert success, f\"approx: {approx}, exact: {exact}, error: {error}\"\n",
    "    \n",
    "test_pathlength()"
   ]
  },
  {
   "cell_type": "markdown",
   "metadata": {},
   "source": [
    "# Exercise 3.18: Approximate $\\pi$"
   ]
  },
  {
   "cell_type": "code",
   "execution_count": 34,
   "metadata": {},
   "outputs": [
    {
     "name": "stdout",
     "output_type": "stream",
     "text": [
      "2.1213203435596424 1.0202723100301507\n",
      "2.678784026555628 0.4628086270341649\n",
      "2.926354830241923 0.21523782334787\n",
      "3.0385313502163798 0.10306130337341335\n",
      "3.0912634826273364 0.050329170962456704\n",
      "3.116736022409867 0.024856631179926314\n",
      "3.1292422628585688 0.012350390731224348\n",
      "3.1354370557179547 0.006155597871838392\n",
      "3.138519768514227 0.003072885075566134\n"
     ]
    }
   ],
   "source": [
    "xi = lambda n, i: 1/2 * cos(2 * pi * i / n)\n",
    "yi = lambda n, i: 1/2 * sin(2 * pi * i / n)\n",
    "\n",
    "for n in (2**k for k in range(2, 11)):\n",
    "    x = []; y = []\n",
    "    for i in range(n):\n",
    "        x.append(xi(n, i))\n",
    "        y.append(yi(n, i))\n",
    "    path = pathlength(x, y)\n",
    "    print(path, abs(path - pi))"
   ]
  },
  {
   "cell_type": "markdown",
   "metadata": {},
   "source": [
    "# Exercise 3.19: Compute the area of a polygon"
   ]
  },
  {
   "cell_type": "code",
   "execution_count": 35,
   "metadata": {
    "collapsed": true
   },
   "outputs": [],
   "source": [
    "def polygon_area(x, y):\n",
    "    return (1. / 2 * sum(x[i - 1]*y[i] - y[i - 1]*x[i] for i in range(1,len(x))))"
   ]
  },
  {
   "cell_type": "code",
   "execution_count": 36,
   "metadata": {},
   "outputs": [
    {
     "data": {
      "text/plain": [
       "1.0"
      ]
     },
     "execution_count": 36,
     "metadata": {},
     "output_type": "execute_result"
    }
   ],
   "source": [
    "polygon_area((0, 1, 1, 0), (0, 0, 1, 1))"
   ]
  },
  {
   "cell_type": "code",
   "execution_count": 37,
   "metadata": {},
   "outputs": [
    {
     "data": {
      "text/plain": [
       "0.5"
      ]
     },
     "execution_count": 37,
     "metadata": {},
     "output_type": "execute_result"
    }
   ],
   "source": [
    "polygon_area((0, 1, 0), (0, 0, 1))"
   ]
  },
  {
   "cell_type": "code",
   "execution_count": 38,
   "metadata": {
    "collapsed": true
   },
   "outputs": [],
   "source": [
    "# i don't want to calculate the area of a pentagon.."
   ]
  },
  {
   "cell_type": "markdown",
   "metadata": {},
   "source": [
    "# Exercise 3.20: Write functions"
   ]
  },
  {
   "cell_type": "code",
   "execution_count": 39,
   "metadata": {},
   "outputs": [
    {
     "name": "stdout",
     "output_type": "stream",
     "text": [
      "Hello, World!\n",
      "Hello, World!\n",
      "Hello, World!\n",
      "Python function\n"
     ]
    }
   ],
   "source": [
    "def hw1():\n",
    "    return \"Hello, World!\"\n",
    "    \n",
    "def hw2():\n",
    "    print(\"Hello, World!\")\n",
    "    \n",
    "def hw3(x, y):\n",
    "    return x + y\n",
    "\n",
    "print(hw1())\n",
    "hw2()\n",
    "print(hw3(\"Hello, \", \"World!\"))\n",
    "print(hw3(\"Python \", \"function\"))"
   ]
  },
  {
   "cell_type": "markdown",
   "metadata": {},
   "source": [
    "# Exercise 3.21: Approximate a function by a sum of sines"
   ]
  },
  {
   "cell_type": "code",
   "execution_count": 40,
   "metadata": {},
   "outputs": [
    {
     "name": "stdout",
     "output_type": "stream",
     "text": [
      "   n |  alpha |    error \n",
      "-----+--------+----------\n",
      "   1 |   0.01 |   0.9201\n",
      "   1 |   0.25 |  -0.2732\n",
      "   1 |   0.49 |   0.9201\n",
      "   3 |   0.01 |   0.7618\n",
      "   3 |   0.25 |  -0.1035\n",
      "   3 |   0.49 |   0.7618\n",
      "   5 |   0.01 |   0.6086\n",
      "   5 |   0.25 |  -0.0631\n",
      "   5 |   0.49 |   0.6086\n",
      "  10 |   0.01 |   0.2668\n",
      "  10 |   0.25 |   0.0318\n",
      "  10 |   0.49 |   0.2668\n",
      "  30 |   0.01 |  -0.1448\n",
      "  30 |   0.25 |   0.0106\n",
      "  30 |   0.49 |  -0.1448\n",
      " 100 |   0.01 |   0.0501\n",
      " 100 |   0.25 |   0.0032\n",
      " 100 |   0.49 |   0.0501\n"
     ]
    }
   ],
   "source": [
    "from math import pi, sin\n",
    "\n",
    "def S(t, n, T):\n",
    "    return 4 / pi * sum(sin(2 * (2*i - 1) * pi * t / T) / (2*i - 1) for i in range(1, n + 1))\n",
    "\n",
    "def f(t, T):\n",
    "    return 1 if 0 < t < T/2 else -1 if T/2 < t < T else 0\n",
    "\n",
    "print(\"   n |  alpha |    error \")\n",
    "print(\"-----+--------+----------\")\n",
    "T = 2*pi\n",
    "for n in 1, 3, 5, 10, 30, 100:\n",
    "    for alpha in 0.01, 0.25, 0.49:\n",
    "        t = alpha * T\n",
    "        error = f(t, T) - S(t, n, T)\n",
    "        print(f\" {n:3} | {alpha:6} | {error:8.4f}\")"
   ]
  },
  {
   "cell_type": "markdown",
   "metadata": {},
   "source": [
    "# Exercise 3.22: Implement a Gaussian function"
   ]
  },
  {
   "cell_type": "code",
   "execution_count": 41,
   "metadata": {},
   "outputs": [
    {
     "name": "stdout",
     "output_type": "stream",
     "text": [
      "      x |  gauss(x) \n",
      "--------+-----------\n",
      " -13.00 | 7.434e-07 \n",
      " -10.78 | 1.037e-04 \n",
      "  -8.56 | 4.211e-03 \n",
      "  -6.33 | 4.974e-02 \n",
      "  -4.11 | 1.709e-01 \n",
      "  -1.89 | 1.709e-01 \n",
      "   0.33 | 4.974e-02 \n",
      "   2.56 | 4.211e-03 \n",
      "   4.78 | 1.037e-04 \n",
      "   7.00 | 7.434e-07 \n"
     ]
    }
   ],
   "source": [
    "from math import sqrt, pi, exp\n",
    "\n",
    "def gauss(x, m=0, s=1):\n",
    "    return exp(-((x - m) / s)**2 / 2) / sqrt(2 * pi) / s\n",
    "\n",
    "m = -3    # Mean\n",
    "s = 2     # Standard deviation\n",
    "n = 10    # No. of value pairs\n",
    "\n",
    "print(\"      x |  gauss(x) \")\n",
    "print(\"--------+-----------\")\n",
    "for x in [m - 5*s + i*(10 * s / (n - 1)) for i in range(n)]:\n",
    "    print(f\" {x:6.2f} | {gauss(x, m, s):6.3e} \")"
   ]
  },
  {
   "cell_type": "markdown",
   "metadata": {},
   "source": [
    "# Exercise 3.23: Wrap a formula in a function"
   ]
  },
  {
   "cell_type": "code",
   "execution_count": 42,
   "metadata": {},
   "outputs": [
    {
     "name": "stdout",
     "output_type": "stream",
     "text": [
      "\n",
      "Time to soft-boil a small egg taken from the fridge: 2.75e+04 s\n",
      "Time to hard-boil a small egg taken from the fridge: 4.01e+04 s\n",
      "Time to soft-boil a large egg taken from the fridge: 3.49e+04 s\n",
      "Time to hard-boil a large egg taken from the fridge: 5.08e+04 s\n",
      "Time to soft-boil a small egg taken from a hot room: 1.83e+04 s\n",
      "Time to hard-boil a small egg taken from a hot room: 3.09e+04 s\n",
      "Time to soft-boil a large egg taken from a hot room: 2.31e+04 s\n",
      "Time to hard-boil a large egg taken from a hot room: 3.91e+04 s\n",
      "\n"
     ]
    }
   ],
   "source": [
    "from math import pi, log\n",
    "\n",
    "def egg(M, T0=20, Ty=70):\n",
    "    \"\"\"\n",
    "    Calculate the perfect time to cook an egg.\n",
    "    \n",
    "    Parameters\n",
    "    ----------\n",
    "    M : number\n",
    "        Mass of the egg [kg]\n",
    "    T0 : number, optional, default 20\n",
    "        Initial temperature of the egg [°C]\n",
    "    Ty : number, optional, default 70\n",
    "        Maximum temperature of the yolk [°C]\n",
    "        \n",
    "    Returns\n",
    "    -------\n",
    "    t : number\n",
    "        Time to boil the egg [s]\n",
    "    \"\"\"\n",
    "    \n",
    "    Tw = 100             # Temperature of the boiling water [°C]\n",
    "    rho = 1.038e3        # Density of the egg [kg / m^3]\n",
    "    c = 3.7e3            # Specific heat capacity of the egg [J / kg / K]\n",
    "    K = 0.54             # Thermal conductivity [W / K]\n",
    "\n",
    "    t = M**(2 / 3) * c * rho**(1 / 3) / K / pi**2 / (4 * 3 / pi)**(2 / 3) * log(0.76 * (T0 - Tw) / (Ty - Tw))\n",
    "    \n",
    "    return t\n",
    "    \n",
    "\n",
    "print(f\"\"\"\n",
    "Time to soft-boil a small egg taken from the fridge: {egg(47, T0=4, Ty=65):.2e} s\n",
    "Time to hard-boil a small egg taken from the fridge: {egg(47, T0=4, Ty=75):.2e} s\n",
    "Time to soft-boil a large egg taken from the fridge: {egg(67, T0=4, Ty=65):.2e} s\n",
    "Time to hard-boil a large egg taken from the fridge: {egg(67, T0=4, Ty=75):.2e} s\n",
    "Time to soft-boil a small egg taken from a hot room: {egg(47, T0=25, Ty=65):.2e} s\n",
    "Time to hard-boil a small egg taken from a hot room: {egg(47, T0=25, Ty=75):.2e} s\n",
    "Time to soft-boil a large egg taken from a hot room: {egg(67, T0=25, Ty=65):.2e} s\n",
    "Time to hard-boil a large egg taken from a hot room: {egg(67, T0=25, Ty=75):.2e} s\n",
    "\"\"\")"
   ]
  },
  {
   "cell_type": "markdown",
   "metadata": {},
   "source": [
    "# Exercise 3.24: Write a function for numerical differentiation"
   ]
  },
  {
   "cell_type": "code",
   "execution_count": 43,
   "metadata": {
    "collapsed": true
   },
   "outputs": [],
   "source": [
    "def diff(f, x, h=1e-5):\n",
    "    \"\"\"Calculate the derivative of `h` at `x`.\"\"\"\n",
    "    return (f(x + h) - f(x - h)) / 2 / h\n",
    "\n",
    "def test_diff():\n",
    "    \"\"\"Verify `diff` using `f` = 2x^2 + 3x + 7 and `x` = -1.\"\"\"\n",
    "    f = lambda x: 2*x**2 + 3*x + 7\n",
    "    x = -1\n",
    "    expected = -1\n",
    "    computed = diff(f, x)\n",
    "    error = abs(expected - computed)\n",
    "    tolerance = 1e-10\n",
    "    success = error < tolerance\n",
    "    msg = f\"\"\"\n",
    "    Error testing `diff` using `f` = 2x^2 + 3x + 7 and `x` = -1.\n",
    "    Expected:  {expected:13.6e}\n",
    "    Computed:  {computed:13.6e}\n",
    "    Error:     {error:13.6e}\n",
    "    Tolerance: {tolerance:13.6e}\"\"\"\n",
    "    assert success, msg"
   ]
  },
  {
   "cell_type": "code",
   "execution_count": 44,
   "metadata": {
    "scrolled": true
   },
   "outputs": [
    {
     "name": "stdout",
     "output_type": "stream",
     "text": [
      "exp(0):         Error = 1.666675e-05\n",
      "exp(-2 * 0**2): Error = 0.000000e+00\n",
      "cos(x):         Error = 0.000000e+00\n",
      "ln(x):          Error = 3.333533e-05\n"
     ]
    }
   ],
   "source": [
    "from math import exp, cos, pi, log\n",
    "\n",
    "def application():\n",
    "    print(\"exp(0):         Error = %12.6e\" % abs(1 - diff(exp, 0, .01)))\n",
    "    f = lambda x: exp(-2 * x**2)\n",
    "    print(\"exp(-2 * 0**2): Error = %12.6e\" % abs(0 - diff(f, 0, .01)))\n",
    "    print(\"cos(x):         Error = %12.6e\" % abs(0 - diff(cos, 2*pi, .01)))\n",
    "    print(\"ln(x):          Error = %12.6e\" % abs(1 - diff(log, 1, .01)))\n",
    "    \n",
    "application()"
   ]
  },
  {
   "cell_type": "markdown",
   "metadata": {},
   "source": [
    "# Exercise 3.25: Implement the factorial function"
   ]
  },
  {
   "cell_type": "code",
   "execution_count": 45,
   "metadata": {
    "collapsed": true
   },
   "outputs": [],
   "source": [
    "def fact(n):\n",
    "    if n < 0 or not float(n).is_integer(): \n",
    "        raise ValueError(\"Factorial numbers are only defined for positive integers.\")\n",
    "    if n <= 1:\n",
    "        return 1\n",
    "    else:\n",
    "        return n * fact(n - 1)"
   ]
  },
  {
   "cell_type": "code",
   "execution_count": 46,
   "metadata": {
    "collapsed": true
   },
   "outputs": [],
   "source": [
    "def test_fact():\n",
    "    n = 4\n",
    "    # Check an arbitrary case n=4\n",
    "    expected = 4*3*2*1\n",
    "    computed = fact(n)\n",
    "    assert computed == expected # Check the special cases\n",
    "    assert fact(0) == 1\n",
    "    assert fact(1) == 1\n",
    "    \n",
    "test_fact()"
   ]
  },
  {
   "cell_type": "markdown",
   "metadata": {},
   "source": [
    "# Exercise 3.26: Compute velocity and acceleration from 1D position data"
   ]
  },
  {
   "cell_type": "code",
   "execution_count": 47,
   "metadata": {},
   "outputs": [],
   "source": [
    "def kinematics(i, x, t):\n",
    "    v = (x[i + 1] - x[i - 1]) / (t[i + 1] - t[i - 1])\n",
    "    a = 2 / (t[i + 1] - t[i - 1]) * ((x[i + 1] - x[i]) / (t[i + 1] - t[i]) - (x[i] - x[i - 1]) / (t[i] - t[i - 1]))\n",
    "    return v, a\n",
    "\n",
    "def test_kinematics():\n",
    "    v = 2\n",
    "    t = 0, 0.5, 1.5, 2.2\n",
    "    x = 0, 1, 3, 4.4\n",
    "    expected = 2, 0, 2, 0\n",
    "    computed = kinematics(1, x, t) + kinematics(2, x, t)\n",
    "    error = sum(abs(expected[i] - computed[i]) for i in range(len(expected))) / len(expected)\n",
    "    tolerance = 1e-10\n",
    "    success = error < tolerance\n",
    "    msg = f\"\"\"\n",
    "    Error testing `kinematics`.\n",
    "    Expected:  {expected}\n",
    "    Computed:  {computed}\n",
    "    Error:     {error:13.6e}\n",
    "    Tolerance: {tolerance:13.6e}\"\"\"\n",
    "    assert success, msg\n",
    "    \n",
    "test_kinematics()"
   ]
  },
  {
   "cell_type": "markdown",
   "metadata": {},
   "source": [
    "# Exercise 3.27: Find the max and min values of a function"
   ]
  },
  {
   "cell_type": "code",
   "execution_count": 48,
   "metadata": {
    "collapsed": true
   },
   "outputs": [],
   "source": [
    "def maxmin(f, a, b, n=10000):\n",
    "    values = [f(x) for x in [a + i*(b - a)/(n - 1) for i in range(n)]]\n",
    "    return max(values), min(values)\n",
    "\n",
    "from math import pi, cos\n",
    "def test_maxmin():\n",
    "    a = -pi/2\n",
    "    b = 2*pi\n",
    "    f = cos\n",
    "    expected = 1, -1\n",
    "    computed = maxmin(f, a, b)\n",
    "    error = sum(abs(x - y) for x, y in zip(expected, computed)) / len(expected)\n",
    "    tolerance = 1e-6\n",
    "    success = error < tolerance\n",
    "    msg = f\"\"\"\n",
    "    Error testing `maxmin`.\n",
    "    Expected:  {expected}\n",
    "    Computed:  {computed}\n",
    "    Error:     {error:13.6e}\n",
    "    Tolerance: {tolerance:13.6e}\"\"\"\n",
    "    assert success, msg\n",
    "    \n",
    "test_maxmin()"
   ]
  },
  {
   "cell_type": "markdown",
   "metadata": {},
   "source": [
    "# Exercise 3.28: Find the max and min elements in a list"
   ]
  },
  {
   "cell_type": "code",
   "execution_count": 49,
   "metadata": {},
   "outputs": [
    {
     "name": "stdout",
     "output_type": "stream",
     "text": [
      "5\n",
      "1\n"
     ]
    }
   ],
   "source": [
    "def max_(list_):\n",
    "    m = list_[0]\n",
    "    for x in list_[1:]:\n",
    "        if x > m:\n",
    "            m = x\n",
    "    return m\n",
    "\n",
    "def min_(list_):\n",
    "    m = list_[0]\n",
    "    for x in list_[1:]:\n",
    "        if x < m:\n",
    "            m = x\n",
    "    return m\n",
    "\n",
    "print(max_([1, 2, 3, 4, 5]))\n",
    "print(min_([1, 2, 3, 4, 5]))"
   ]
  },
  {
   "cell_type": "markdown",
   "metadata": {},
   "source": [
    "# Exercise 3.29: Implement the Heaviside function"
   ]
  },
  {
   "cell_type": "code",
   "execution_count": 50,
   "metadata": {
    "collapsed": true
   },
   "outputs": [],
   "source": [
    "def H(x):\n",
    "    return 0 if x < 0 else 1\n",
    "\n",
    "def test_H():\n",
    "    \"\"\"Verify `H` using `x` elem. {-10, -10e-15, 0, 10e-15, 10}.\"\"\"\n",
    "    expected = 0, 0, 1, 1, 1\n",
    "    computed = H(-10), H(-10e-15), H(0), H(10e-15), H(10)\n",
    "    error = sum(abs(x - y) for x, y in zip(expected, computed)) / len(expected)\n",
    "    tolerance = 1e-12\n",
    "    success = error < tolerance\n",
    "    msg = f\"\"\"\n",
    "    Error testing `H`.\n",
    "    Expected:  {expected}\n",
    "    Computed:  {computed}\n",
    "    Error:     {error:13.6e}\n",
    "    Tolerance: {tolerance:13.6e}\"\"\"\n",
    "    assert success, msg\n",
    "    \n",
    "test_H()"
   ]
  },
  {
   "cell_type": "markdown",
   "metadata": {},
   "source": [
    "# Exercise 3.30: Implement a smoothed Heaviside function"
   ]
  },
  {
   "cell_type": "code",
   "execution_count": 51,
   "metadata": {
    "collapsed": true
   },
   "outputs": [],
   "source": [
    "from math import pi, sin\n",
    "\n",
    "def H_eps(x, eps=.01):\n",
    "    return 0 if x < -eps else 1 if x > eps else 1/2 + x/2/eps + (pi / 2 * sin(pi * x / eps))\n",
    "\n",
    "def test_H_eps():\n",
    "    \"\"\"Verify `H_eps` using `x` elem. {-10, -1, -0.01, 0, 0.01, 1, 10}.\"\"\"\n",
    "    x = -10, -1, -0.01, 0, 0.01, 1, 10\n",
    "    expected = 0, 0, 0, 0.5, 1, 1, 1\n",
    "    computed = (H_eps(y) for y in x)\n",
    "    error = sum(abs(x - y) for x, y in zip(expected, computed)) / len(expected)\n",
    "    tolerance = 1e-12\n",
    "    success = error < tolerance\n",
    "    msg = f\"\"\"\n",
    "    Error testing `H`.\n",
    "    Expected:  {expected}\n",
    "    Computed:  {computed}\n",
    "    Error:     {error:13.6e}\n",
    "    Tolerance: {tolerance:13.6e}\"\"\"\n",
    "    assert success, msg\n",
    "\n",
    "test_H_eps()"
   ]
  },
  {
   "cell_type": "markdown",
   "metadata": {},
   "source": [
    "# Exercise 3.31: Implement an indicator function"
   ]
  },
  {
   "cell_type": "code",
   "execution_count": 52,
   "metadata": {
    "collapsed": true
   },
   "outputs": [],
   "source": [
    "I1 = lambda x, l, r: int(l <= x <= r)\n",
    "I2 = lambda x, l, r: H(x - l) * H(r - x)\n",
    "\n",
    "def test_I():\n",
    "    \"\"\"Verify `I1` and `I2` using `l` = -3, `r` = 20 and `x` elem. {-5, `l`, (`l` + `r`) / 2, `r`, 30}.\"\"\"\n",
    "    l = -3; r = 20\n",
    "    x = -5, l, (l + r) / 2, r, 30\n",
    "    expected = 2 * [0, 1, 1, 1, 0]\n",
    "    computed = [I1(y, l, r) for y in x] + [I2(y, l, r) for y in x]\n",
    "    error = sum(abs(x - y) for x, y in zip(expected, computed)) / len(expected)\n",
    "    tolerance = 1e-12\n",
    "    success = error < tolerance\n",
    "    msg = f\"\"\"\n",
    "    Error testing `I1` and `I2`.\n",
    "    Expected:  {expected}\n",
    "    Computed:  {computed}\n",
    "    Error:     {error:13.6e}\n",
    "    Tolerance: {tolerance:13.6e}\"\"\"\n",
    "    assert success, msg\n",
    "    \n",
    "test_I()"
   ]
  },
  {
   "cell_type": "markdown",
   "metadata": {},
   "source": [
    "# Exercise 3.32: Implement a piecewise constant function"
   ]
  },
  {
   "cell_type": "code",
   "execution_count": 53,
   "metadata": {
    "collapsed": true
   },
   "outputs": [],
   "source": [
    "def piecewise(x, data):\n",
    "    for i, (_, y) in enumerate(data, start=1):\n",
    "        if len(data) == i or x < data[i][0]:\n",
    "            return y\n",
    "        \n",
    "def test_piecewise():\n",
    "    \"\"\"Verify `picesewise` using `data` = [(0, -1), (1, 0), (1.5, 4)] and `x` elem. {-5, 0, .5, 1, 1.5, 5}.\"\"\"\n",
    "    data = [(0, -1), (1, 0), (1.5, 4)]\n",
    "    x = -5, 0, .5, 1, 1.5, 5\n",
    "    expected = -1, -1, -1, 0, 4, 4\n",
    "    computed = [piecewise(x, data) for x in x]\n",
    "    error = sum(abs(x - y) for x, y in zip(expected, computed)) / len(expected)\n",
    "    tolerance = 1e-12\n",
    "    success = error < tolerance\n",
    "    msg = f\"\"\"\n",
    "    Error testing `piecewise`.\n",
    "    Expected:  {expected}\n",
    "    Computed:  {computed}\n",
    "    Error:     {error:13.6e}\n",
    "    Tolerance: {tolerance:13.6e}\"\"\"\n",
    "    assert success, msg\n",
    "    \n",
    "test_piecewise()"
   ]
  },
  {
   "cell_type": "markdown",
   "metadata": {},
   "source": [
    "# Exercise 3.33: Apply indicator functions"
   ]
  },
  {
   "cell_type": "code",
   "execution_count": 54,
   "metadata": {},
   "outputs": [
    {
     "data": {
      "text/plain": [
       "-1"
      ]
     },
     "execution_count": 54,
     "metadata": {},
     "output_type": "execute_result"
    }
   ],
   "source": [
    "I3 = lambda x, l, r: int(l <= x < r)    # Interval needs to be half-open for piecewise definition.\n",
    "\n",
    "def piecewise2(x, data):\n",
    "    return sum(point[1] * I3(x, point[0], data[i][0] if len(data) != i else x) for i, point in enumerate(data, start=1))\n",
    "\n",
    "piecewise2(0, [(0, -1), (1, 0), (1.5, 4)])"
   ]
  },
  {
   "cell_type": "markdown",
   "metadata": {},
   "source": [
    "# Exercise 3.34: Test your understanding of branching"
   ]
  },
  {
   "cell_type": "code",
   "execution_count": 55,
   "metadata": {},
   "outputs": [
    {
     "name": "stdout",
     "output_type": "stream",
     "text": [
      "quadrant I or II\n",
      "quadrant II\n",
      "quadrant I or IV\n",
      "quadrant I or II\n",
      "quadrant I or IV\n"
     ]
    }
   ],
   "source": [
    "# Expected Output:\n",
    "# quadrant I or II\n",
    "# quadrant II\n",
    "# quadrant I or IV\n",
    "# quadrant I or II\n",
    "# quadrant I or IV\n",
    "\n",
    "def where1(x, y):\n",
    "    if x > 0:\n",
    "        print(\"quadrant I or IV\")\n",
    "    if y > 0:\n",
    "        print(\"quadrant I or II\")\n",
    "def where2(x, y):\n",
    "    if x > 0:\n",
    "        print(\"quadrant I or IV\")\n",
    "    elif y > 0:\n",
    "        print(\"quadrant II\")\n",
    "\n",
    "for x, y in (-1, 1), (1, 1):\n",
    "    where1(x,y)\n",
    "    where2(x,y)"
   ]
  },
  {
   "cell_type": "markdown",
   "metadata": {},
   "source": [
    "# Exercise 3.35: Simulate nested loops by hand"
   ]
  },
  {
   "cell_type": "code",
   "execution_count": 56,
   "metadata": {},
   "outputs": [
    {
     "name": "stdout",
     "output_type": "stream",
     "text": [
      "-1 1 2 \n",
      "\n",
      "1 0\n",
      "1 1\n",
      "1 2\n",
      "7 0\n",
      "7 1\n",
      "7 2\n",
      "\n",
      "2 1\n",
      "3 1\n",
      "3 2\n",
      "\n",
      "7 4 2\n",
      "7 4 3\n",
      "7 6 2\n",
      "7 6 3\n",
      "7 6 4\n",
      "7 6 5\n"
     ]
    }
   ],
   "source": [
    "# Expected output:\n",
    "# -1, 1, 2\n",
    "\n",
    "# 1, 0\n",
    "# 1, 1\n",
    "# 1, 2\n",
    "# 7, 0\n",
    "# 7, 1\n",
    "# 7, 2\n",
    "\n",
    "# 2, 1\n",
    "# 3, 1\n",
    "# 3, 2\n",
    "\n",
    "# 7, 4, 2\n",
    "# 7, 4, 3\n",
    "# 7, 6, 2\n",
    "# 7, 6, 3\n",
    "# 7, 6, 4\n",
    "# 7, 6, 5\n",
    "\n",
    "n = 3\n",
    "for i in range(-1, n):\n",
    "    if i != 0:\n",
    "        print(i, end=\" \")\n",
    "print()\n",
    "print()\n",
    "\n",
    "for i in range(1, 13, 2*n):\n",
    "    for j in range(n):\n",
    "        print(i, j)\n",
    "print()\n",
    "        \n",
    "for i in range(1, n+1):\n",
    "    for j in range(i):\n",
    "        if j:\n",
    "            print(i, j)\n",
    "print()\n",
    "            \n",
    "for i in range(1, 13, 2*n):\n",
    "    for j in range(0, i, 2):\n",
    "        for k in range(2, j, 1):\n",
    "            b = i > j > k\n",
    "            if b:\n",
    "                print(i, j, k)\n",
    "                \n",
    "# enough thinking for today"
   ]
  },
  {
   "cell_type": "markdown",
   "metadata": {},
   "source": [
    "# Exercise 3.36: Rewrite a mathematical function"
   ]
  },
  {
   "cell_type": "markdown",
   "metadata": {},
   "source": [
    "$$\n",
    "c_i = (1 - \\frac{1}{i}) \\frac{x}{1 + x} c_{i-1}\n",
    "$$"
   ]
  },
  {
   "cell_type": "code",
   "execution_count": 57,
   "metadata": {
    "collapsed": true
   },
   "outputs": [],
   "source": [
    "def L3_ci(x, epsilon=1e-6):\n",
    "    s = c = x / (1 + x)\n",
    "    a = lambda i: (1 - 1 / i) * x / (1 + x)\n",
    "    i = 1\n",
    "    while abs(c) > epsilon:\n",
    "        i += 1\n",
    "        c *= a(i)\n",
    "        s += c\n",
    "    return s, i\n",
    "\n",
    "def L3(x, epsilon=1.0E-6):\n",
    "    x = float(x)\n",
    "    i = 1\n",
    "    term = (1.0/i)*(x/(1+x))**i\n",
    "    s = term\n",
    "    while abs(term) > epsilon:\n",
    "        i += 1\n",
    "        term = (1.0/i)*(x/(1+x))**i\n",
    "        s += term\n",
    "    return s, i\n",
    "\n",
    "def test_L3_ci():\n",
    "    \"\"\"Verify `L3_ci` using `x` = 2.\"\"\"\n",
    "    x = 2\n",
    "    expected, _ = L3(x)\n",
    "    computed, _ = L3_ci(x)\n",
    "    error = abs(expected - computed)\n",
    "    tolerance = 1e-12\n",
    "    success = error < tolerance\n",
    "    msg = f\"\"\"\n",
    "    Error testing `piecewise`.\n",
    "    Expected:  {expected:13.6e}\n",
    "    Computed:  {computed:13.6e}\n",
    "    Error:     {error:13.6e}\n",
    "    Tolerance: {tolerance:13.6e}\"\"\"\n",
    "    assert success, msg\n",
    "    \n",
    "test_L3_ci()"
   ]
  },
  {
   "cell_type": "markdown",
   "metadata": {},
   "source": [
    "# Exercise 3.37: Make a table for approximations of cos x"
   ]
  },
  {
   "cell_type": "code",
   "execution_count": 58,
   "metadata": {},
   "outputs": [
    {
     "name": "stdout",
     "output_type": "stream",
     "text": [
      " ↓x \\ n→ |      5       |      25      |      50      |     100      |     200      \n",
      "---------+--------------+--------------+--------------+--------------+--------------\n",
      " 12.5664 | 1.091347e+04 | 2.826108e-10 | 6.568079e-13 | 6.568079e-13 | 6.568079e-13 \n",
      " 18.8496 | 3.380495e+05 | 1.686243e-01 | 4.437678e-10 | 4.437678e-10 | 4.437678e-10 \n",
      " 25.1327 | 3.614470e+06 | 2.722097e+05 | 4.177693e-07 | 4.177693e-07 | 4.177693e-07 \n",
      " 31.4159 | 2.223789e+07 | 1.716062e+10 | 3.587509e-04 | 3.587559e-04 | 3.587559e-04 \n"
     ]
    }
   ],
   "source": [
    "def C(x, n):\n",
    "    s = c = 1\n",
    "    for i in range(1, n):\n",
    "        c *= -x**2 / 2 / i / (2*i - 1)\n",
    "        s += c\n",
    "    return s\n",
    "\n",
    "from math import pi, cos\n",
    "\n",
    "def C_table():\n",
    "    n = 5, 25, 50, 100, 200\n",
    "    x = 4*pi, 6*pi, 8*pi, 10*pi\n",
    "    print(\" ↓x \\ n→ | {:^12} | {:^12} | {:^12} | {:^12} | {:^12} \".format(*n))\n",
    "    print(\"---------+--------------+--------------+--------------+--------------+--------------\")\n",
    "    for x in x:\n",
    "        c = [C(x, n) for n in n]\n",
    "        e = [abs(cos(x) - c) for c in c]\n",
    "        print(\" {:7g} | {:12e} | {:12e} | {:12e} | {:12e} | {:12e} \".format(x, *e))\n",
    "    \n",
    "C_table()"
   ]
  },
  {
   "cell_type": "markdown",
   "metadata": {},
   "source": [
    "# Exercise 3.38: Use None in keyword arguments"
   ]
  },
  {
   "cell_type": "code",
   "execution_count": 59,
   "metadata": {},
   "outputs": [
    {
     "name": "stdout",
     "output_type": "stream",
     "text": [
      "1.0986111084058483\n",
      "(1.0986111084058483, 27)\n",
      "1.0633744855967078\n"
     ]
    }
   ],
   "source": [
    "def L2(x, n):\n",
    "    s = 0\n",
    "    for i in range(1, n+1):\n",
    "        s += (1.0/i)*(x/(1.0+x))**i\n",
    "    return s\n",
    "\n",
    "def L3(x, epsilon=1.0E-6):\n",
    "    x = float(x)\n",
    "    i = 1\n",
    "    term = (1.0/i)*(x/(1+x))**i\n",
    "    s = term\n",
    "    while abs(term) > epsilon:\n",
    "        i += 1\n",
    "        term = (1.0/i)*(x/(1+x))**i\n",
    "        s += term\n",
    "    return s, i\n",
    "\n",
    "def L4(x, epsilon=1e-6, n=None, return_n=False):\n",
    "    if n:\n",
    "        ln = L2(x, n)\n",
    "    else:\n",
    "        ln, n = L3(x, epsilon)\n",
    "    return (ln, n) if return_n else ln\n",
    "    \n",
    "print(L4(2))\n",
    "print(L4(2, return_n=True))\n",
    "print(L4(2, n=5))"
   ]
  },
  {
   "cell_type": "markdown",
   "metadata": {},
   "source": [
    "# Exercise 3.39: Write a sort function for a list of 4-tuples"
   ]
  },
  {
   "cell_type": "code",
   "execution_count": 60,
   "metadata": {},
   "outputs": [
    {
     "name": "stdout",
     "output_type": "stream",
     "text": [
      "Sorted with respect to distance from sun:\n",
      "=========================================\n",
      "Ross 154:            9.4\n",
      "Sirius A:            8.6\n",
      "Sirius B:            8.6\n",
      "Luyten 726-8 A:      8.4\n",
      "Luyten 726-8 B:      8.4\n",
      "BD +36 degrees 2147: 8.2\n",
      "Wolf 359:            7.7\n",
      "Barnard's Star:      6.0\n",
      "Alpha Centauri A:    4.3\n",
      "Alpha Centauri B:    4.3\n",
      "Alpha Centauri C:    4.2\n",
      "\n",
      "Sorted with respect to apparent brightness:\n",
      "===========================================\n",
      "Sirius A:            1.0\n",
      "Alpha Centauri A:    0.26\n",
      "Alpha Centauri B:    0.077\n",
      "Sirius B:            0.001\n",
      "BD +36 degrees 2147: 0.0003\n",
      "Barnard's Star:      4e-05\n",
      "Ross 154:            2e-05\n",
      "Alpha Centauri C:    1e-05\n",
      "Luyten 726-8 A:      3e-06\n",
      "Luyten 726-8 B:      2e-06\n",
      "Wolf 359:            1e-06\n",
      "\n",
      "Sorted with respect to luminosity:\n",
      "==================================\n",
      "Sirius A:            23.6\n",
      "Alpha Centauri A:    1.56\n",
      "Alpha Centauri B:    0.45\n",
      "BD +36 degrees 2147: 0.006\n",
      "Sirius B:            0.003\n",
      "Barnard's Star:      0.0005\n",
      "Ross 154:            0.0005\n",
      "Alpha Centauri C:    6e-05\n",
      "Luyten 726-8 A:      6e-05\n",
      "Luyten 726-8 B:      4e-05\n",
      "Wolf 359:            2e-05\n"
     ]
    }
   ],
   "source": [
    "data = [\n",
    "    ('Alpha Centauri A',    4.3,  0.26,      1.56),\n",
    "    ('Alpha Centauri B',    4.3,  0.077,     0.45),\n",
    "    ('Alpha Centauri C',    4.2,  0.00001,   0.00006),\n",
    "    (\"Barnard's Star\",      6.0,  0.00004,   0.0005),\n",
    "    ('Wolf 359',            7.7,  0.000001,  0.00002),\n",
    "    ('BD +36 degrees 2147', 8.2,  0.0003,    0.006),\n",
    "    ('Luyten 726-8 A',      8.4,  0.000003,  0.00006),\n",
    "    ('Luyten 726-8 B',      8.4,  0.000002,  0.00004),\n",
    "    ('Sirius A',            8.6,  1.00,      23.6),\n",
    "    ('Sirius B',            8.6,  0.001,     0.003),\n",
    "    ('Ross 154',            9.4,  0.00002,   0.0005),\n",
    "]\n",
    "\n",
    "print(\"Sorted with respect to distance from sun:\")\n",
    "print(\"=========================================\")\n",
    "for name, distance, _, _ in sorted(data, key=lambda x: -x[1]):\n",
    "    print(f\"{name + ':':<21}{distance}\")\n",
    "print()\n",
    "print(\"Sorted with respect to apparent brightness:\")\n",
    "print(\"===========================================\")\n",
    "for name, _, brightness, _ in sorted(data, key=lambda x: -x[2]):\n",
    "    print(f\"{name + ':':<21}{brightness}\")\n",
    "print()\n",
    "print(\"Sorted with respect to luminosity:\")\n",
    "print(\"==================================\")\n",
    "for name, _, _, luminosity in sorted(data, key=lambda x: -x[3]):\n",
    "    print(f\"{name + ':':<21}{luminosity}\")"
   ]
  },
  {
   "cell_type": "markdown",
   "metadata": {},
   "source": [
    "# Exercise 3.40: Find prime numbers"
   ]
  },
  {
   "cell_type": "code",
   "execution_count": 61,
   "metadata": {},
   "outputs": [
    {
     "name": "stdout",
     "output_type": "stream",
     "text": [
      "[2, 3, 5, 7, 11, 13, 17, 19, 23, 29, 31, 37, 41, 43, 47, 53, 59, 61, 67, 71, 73, 79, 83, 89, 97]\n"
     ]
    }
   ],
   "source": [
    "def sieve(n):\n",
    "    a = list(range(2, n+1))\n",
    "    ps = []\n",
    "    while a:\n",
    "        p = a[0]\n",
    "        ps.append(p)\n",
    "        for x in [a for a in a if a % p == 0]:\n",
    "            a.remove(x)\n",
    "    return ps\n",
    "print(sieve(100))"
   ]
  },
  {
   "cell_type": "markdown",
   "metadata": {},
   "source": [
    "# Exercise 3.41: Find pairs of characters"
   ]
  },
  {
   "cell_type": "code",
   "execution_count": 62,
   "metadata": {},
   "outputs": [
    {
     "data": {
      "text/plain": [
       "2"
      ]
     },
     "execution_count": 62,
     "metadata": {},
     "output_type": "execute_result"
    }
   ],
   "source": [
    "def count_pairs(dna, pair):\n",
    "    result = 0\n",
    "    for a, b in zip(dna, dna[1:]):\n",
    "        result += a + b == pair\n",
    "    return result\n",
    "        \n",
    "\n",
    "count_pairs(\"ABCACBAB\", \"AB\")"
   ]
  },
  {
   "cell_type": "markdown",
   "metadata": {},
   "source": [
    "# Exercise 3.42: Count substrings"
   ]
  },
  {
   "cell_type": "code",
   "execution_count": 63,
   "metadata": {},
   "outputs": [
    {
     "data": {
      "text/plain": [
       "3"
      ]
     },
     "execution_count": 63,
     "metadata": {},
     "output_type": "execute_result"
    }
   ],
   "source": [
    "def count_subs(dna, string):\n",
    "    result = 0\n",
    "    d = len(string)\n",
    "    for i in range(len(dna)):\n",
    "        result += dna[i : i+d] == string\n",
    "    return result\n",
    "\n",
    "count_subs(\"ACGTTACGGAACG\", \"ACG\")"
   ]
  },
  {
   "cell_type": "markdown",
   "metadata": {},
   "source": [
    "# Exercise 3.43: Resolve a problem with a function"
   ]
  },
  {
   "cell_type": "code",
   "execution_count": 64,
   "metadata": {
    "collapsed": true
   },
   "outputs": [],
   "source": [
    "# because the function only returns something if x <= 4."
   ]
  },
  {
   "cell_type": "code",
   "execution_count": 65,
   "metadata": {},
   "outputs": [
    {
     "name": "stdout",
     "output_type": "stream",
     "text": [
      "None\n"
     ]
    }
   ],
   "source": [
    "def f(x):\n",
    "    if 0 <= x <= 2:\n",
    "        return x**2\n",
    "    elif 2 < x <= 4:\n",
    "        return 4\n",
    "    elif x < 0:\n",
    "        return 0\n",
    "    \n",
    "print(f(5))"
   ]
  },
  {
   "cell_type": "markdown",
   "metadata": {},
   "source": [
    "# Exercise 3.44: Determine the types of some objects"
   ]
  },
  {
   "cell_type": "code",
   "execution_count": 66,
   "metadata": {},
   "outputs": [
    {
     "name": "stdout",
     "output_type": "stream",
     "text": [
      "[0, 1, 2, 3, 4, 5, 6, 7, 8, 9, 10, 11, 12, 13, 14, 15, 16, 17, 18, 19, 20, 21, 22, 23, 24, 25, 26, 27, 28, 29, 30, 31, 32, 33, 34, 35, 36, 37, 38, 39, 40, 41, 42, 43, 44, 45, 46, 47, 48, 49, 50, 51, 52, 53, 54, 55, 56, 57, 58, 59, 60, 61, 62, 63, 64, 65, 66, 67, 68, 69, 70, 71, 72, 73, 74, 75, 76, 77, 78, 79, 80, 81, 82, 83, 84, 85, 86, 87, 88, 89, 90, 91, 92, 93, 94, 95, 96, 97, 98, 99, 100]\n",
      "[0, 1.0, 2.0, 3.0, 4.0, 5.0, 6.0, 7.0, 8.0, 9.0, 10.0, 11.0, 12.0, 13.0, 14.0, 15.0, 16.0, 17.0, 18.0, 19.0, 20.0, 21.0, 22.0, 23.0, 24.0, 25.0, 26.0, 27.0, 28.0, 29.0, 30.0, 31.0, 32.0, 33.0, 34.0, 35.0, 36.0, 37.0, 38.0, 39.0, 40.0, 41.0, 42.0, 43.0, 44.0, 45.0, 46.0, 47.0, 48.0, 49.0, 50.0, 51.0, 52.0, 53.0, 54.0, 55.0, 56.0, 57.0, 58.0, 59.0, 60.0, 61.0, 62.0, 63.0, 64.0, 65.0, 66.0, 67.0, 68.0, 69.0, 70.0, 71.0, 72.0, 73.0, 74.0, 75.0, 76.0, 77.0, 78.0, 79.0, 80.0, 81.0, 82.0, 83.0, 84.0, 85.0, 86.0, 87.0, 88.0, 89.0, 90.0, 91.0, 92.0, 93.0, 94.0, 95.0, 96.0, 97.0, 98.0, 99.0, 100.0]\n",
      "[-1, -0.9, -0.8, -0.7000000000000001, -0.6000000000000001, -0.5000000000000001, -0.40000000000000013, -0.30000000000000016, -0.20000000000000015, -0.10000000000000014, -1.3877787807814457e-16, 0.09999999999999987, 0.19999999999999987, 0.2999999999999999, 0.3999999999999999, 0.4999999999999999, 0.5999999999999999, 0.6999999999999998, 0.7999999999999998, 0.8999999999999998, 0.9999999999999998]\n",
      "[10]\n",
      "\n"
     ]
    }
   ],
   "source": [
    "def makelist(start, stop, inc):\n",
    "    value = start\n",
    "    result = []\n",
    "    while value <= stop:\n",
    "        result.append(value)\n",
    "        value = value + inc\n",
    "    return result\n",
    "\n",
    "l1 = makelist(0, 100, 1)\n",
    "\"\"\"\n",
    "loop:\n",
    "result = [0]\n",
    "value = 1\n",
    "...\n",
    "result = [0:100:1]    # int elements\n",
    "\"\"\"\n",
    "print(l1)\n",
    "\n",
    "l2 = makelist(0, 100, 1.0)\n",
    "\"\"\"\n",
    "loop:\n",
    "result = [0]\n",
    "value = 1\n",
    "...\n",
    "result = [0:100:1]    # float elements\n",
    "\"\"\"\n",
    "print(l2)\n",
    "\n",
    "l3 = makelist(-1, 1, 0.1)\n",
    "\"\"\"\n",
    "loop:\n",
    "result = [-1]\n",
    "value = -0.9\n",
    "...\n",
    "result = [-1:1:0.1]    # float elements\n",
    "\"\"\"\n",
    "print(l3)\n",
    "\n",
    "l4 = makelist(10, 20, 20)\n",
    "\"\"\"\n",
    "loop:\n",
    "result = [10]\n",
    "value = 30\n",
    "...\n",
    "result = [10]    # int element\n",
    "\"\"\"\n",
    "print(l4)\n",
    "\n",
    "\n",
    "# l5 = makelist([1,2], [3,4], [5])\n",
    "\"\"\"\n",
    "loop:\n",
    "result = [1, 2]\n",
    "value = [1, 2, 5]\n",
    "....\n",
    "\"\"\"\n",
    "\n",
    "# l6 = makelist((1,-1,1), (\"myfile.dat\", \"yourfile.dat\"))\n",
    "\"\"\"\n",
    "`inc` is not specified!\n",
    "\"\"\"\n",
    "\n",
    "# l7 = makelist(\"myfile.dat\", \"yourfile.dat\", \"herfile.dat\")\n",
    "\"\"\"\n",
    "loop:\n",
    "result = \"myfile.dat\"\n",
    "value = \"myfile.datherfile.dat\"\n",
    "....\n",
    "\"\"\"\n",
    "print()"
   ]
  },
  {
   "cell_type": "markdown",
   "metadata": {},
   "source": [
    "# Exercise 3.45: Find an error in a program"
   ]
  },
  {
   "cell_type": "code",
   "execution_count": 67,
   "metadata": {},
   "outputs": [
    {
     "name": "stdout",
     "output_type": "stream",
     "text": [
      "8.854595968125068\n"
     ]
    }
   ],
   "source": [
    "from math import exp, sin\n",
    "\n",
    "def expsin(x, p, q):\n",
    "    return exp(p*x)*sin(q*x)\n",
    "\n",
    "def f(x, m, n, r, s):\n",
    "    return expsin(x, r, m) + expsin(x, s, n)\n",
    "\n",
    "x = 2.5\n",
    "print(f(x, 0.1, 0.2, 1, 1))"
   ]
  }
 ],
 "metadata": {
  "kernelspec": {
   "display_name": "Python 3",
   "language": "python",
   "name": "python3"
  },
  "language_info": {
   "codemirror_mode": {
    "name": "ipython",
    "version": 3
   },
   "file_extension": ".py",
   "mimetype": "text/x-python",
   "name": "python",
   "nbconvert_exporter": "python",
   "pygments_lexer": "ipython3",
   "version": "3.6.2"
  }
 },
 "nbformat": 4,
 "nbformat_minor": 2
}
